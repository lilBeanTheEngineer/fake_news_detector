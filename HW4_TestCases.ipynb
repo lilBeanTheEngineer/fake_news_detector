{
 "cells": [
  {
   "cell_type": "code",
   "execution_count": null,
   "id": "accessory-photograph",
   "metadata": {},
   "outputs": [],
   "source": [
    "# Decrambler Test Cases\n",
    "\n",
    "# Input Assertions \n",
    "\n",
    "# Make sure the word is a string of only alphabetical characters \n",
    "assert isinstance(w,str) and all([char.isalpha() and char.islower() for char in w])\n",
    "\n",
    "# Make sure k is a tuple of only integers \n",
    "assert isinstance(k, tuple) and all([isinstance(num, int) for num in list(k)])\n",
    "\n",
    "# Make sure that the sum of the integers in k is equal to the length of the word\n",
    "# So we create phrases that have the same word length as w\n",
    "assert len(w) == sum(k)\n",
    "\n",
    "# Output Assertions \n",
    "\n",
    "test1 = ['hello there', 'hello three', 'there hello', 'three hello']\n",
    "assert test1 == list(descrambler(\"trleeohelh\", (5, 5)))\n",
    "\n",
    "test2 = ['one tough cookie', 'neo tough cookie', 'one ought cookie', 'neo ought cookie']\n",
    "assert test2 == list(descrambler('qeodwnsciseuesincereins', (4, 7, 12)))\n",
    "\n",
    "test3 = ['wise insider consequences']\n",
    "assert test3 == list(descrambler('qeodwnsciseuesincereins', (4, 7, 12)))\n",
    "\n",
    "test4 = []\n",
    "assert test4 == list(descrambler('ytrzvb', (3,3)))"
   ]
  },
  {
   "cell_type": "code",
   "execution_count": null,
   "id": "organizational-leader",
   "metadata": {},
   "outputs": [],
   "source": [
    "# Gather Values Test Cases\n",
    "\n",
    "# Input Assertions \n",
    "\n",
    "# Make sure x is a list\n",
    "assert isinstance(x,list)"
   ]
  }
 ],
 "metadata": {
  "kernelspec": {
   "display_name": "Python 3",
   "language": "python",
   "name": "python3"
  },
  "language_info": {
   "codemirror_mode": {
    "name": "ipython",
    "version": 3
   },
   "file_extension": ".py",
   "mimetype": "text/x-python",
   "name": "python",
   "nbconvert_exporter": "python",
   "pygments_lexer": "ipython3",
   "version": "3.8.5"
  }
 },
 "nbformat": 4,
 "nbformat_minor": 5
}
